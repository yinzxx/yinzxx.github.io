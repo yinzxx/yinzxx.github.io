{
 "cells": [
  {
   "cell_type": "markdown",
   "id": "8c73f08d",
   "metadata": {},
   "source": [
    "## 第一部分：PyTorch深度学习基础知识\n"
   ]
  },
  {
   "cell_type": "markdown",
   "id": "6ab9d783",
   "metadata": {},
   "source": [
    "### 2.2深度学习在实现上的特殊性\n",
    "- 样本量大，通常需要分批（bath）加载\n",
    "- 逐层、模板化搭建网络（卷积层、全连接、LSTM等）\n",
    "- 多样化的损失函数和优化器设计*\n",
    "- GPU的使用\n",
    "- 模块间配合\n",
    "\n",
    "## 2.3PyTorch深度学习模块\n",
    "- 世纪使用根据需要进行修改\n",
    "- 深度学习：搭积木\n",
    "  - 2.3.1基本配置\n",
    "  - 2.3.2数据读入\n",
    "  - 2.3.3模型构建\n",
    "  - 2.3.4损失函数\n",
    "  - 2.3.5优化器\n",
    "  - 2.3.6优化与评估\n",
    "- 边学边练，通过实战案例巩固\n",
    "- 任务：FashionMNIST时装分类\n",
    "- 数据简介：\n",
    "  - 10类图片\n",
    "  - 32*32px"
   ]
  },
  {
   "cell_type": "markdown",
   "id": "a9dc2194",
   "metadata": {},
   "source": [
    "### 2.\n",
    "- 导入必要的packages\n",
    " - os ,numpy, pandas, torch, torch.nn,torch.optin, torch.utils.data\n",
    "- 配置训练过程中的超参数\n",
    " - batch size,learning rate,max_epochs,num_workers\n",
    "- 配置训练用的硬件设备\n",
    " - cpu ,GPU,\n",
    "- 代码演示"
   ]
  },
  {
   "cell_type": "code",
   "execution_count": 1,
   "id": "8f6bb457",
   "metadata": {},
   "outputs": [],
   "source": [
    "#导包\n",
    "import os\n",
    "import numpy as np\n",
    "import pandas as pd\n",
    "import torch\n",
    "import torch.nn as nn\n",
    "import torch.optim as optim\n",
    "from torch.utils.data import Dataset,DataLoader\n",
    "import torch.optim as optimizer"
   ]
  },
  {
   "cell_type": "markdown",
   "id": "ad8411a9",
   "metadata": {},
   "source": [
    "#### 配置训练环境和超参数\n"
   ]
  },
  {
   "cell_type": "code",
   "execution_count": 2,
   "id": "76a64812",
   "metadata": {},
   "outputs": [],
   "source": [
    "# 配置GPU,这里有两种方式\n",
    "## 一：os.environ\n",
    "#os.environ['CUDA_VISIBLE_DEVICES']='0'#这里的0就是第一块显卡\n",
    "# 二：使用“device”,后续对要使用GPU的变量.to(device)即可\n",
    "device=torch.device('cuda:0' if torch.cuda.is_available() else 'cpu') \n",
    "\n",
    "## 配置其他超参数，batch size,learning rate,max_epochs,num_workers\n",
    "batch_size=256#每次训练数据的量\n",
    "num_workers=4#有多少个线程\n",
    "lr=1e-4#learn rate 每次更新步长\n",
    "epochs=20#总的epochs 训练多少轮\n"
   ]
  },
  {
   "cell_type": "code",
   "execution_count": 3,
   "id": "45963756",
   "metadata": {},
   "outputs": [],
   "source": [
    "#torch.cuda.is_available()#我没有显卡，呜呜呜"
   ]
  },
  {
   "cell_type": "markdown",
   "id": "d8563761",
   "metadata": {},
   "source": [
    "- PyTorch数据读入是通过Dataset+DataLoader的方式完成的，Dataset定义好数据的格式和数据变换形式，DataLoader用iterative的方式不断读入批次数据。\n",
    "\n",
    "  我们可以定义自己的Dataset类来实现灵活的数据读取，定义的类需要继承PyTorch自身的Dataset类。主要包含三个函数：\n",
    "\n",
    "  - __init__: 用于向类中传入外部参数，同时定义样本集\n",
    "\n",
    "  - __getitem__: 用于逐个读取样本集合中的元素，可以进行一定的变换，并将返回训练/验证所需的数据\n",
    "\n",
    "  - __len__: 用于返回数据集的样本数\n",
    "\n",
    "   下面以cifar10数据集为例给出构建Dataset类的方式："
   ]
  },
  {
   "cell_type": "code",
   "execution_count": null,
   "id": "12af40ce",
   "metadata": {},
   "outputs": [],
   "source": []
  },
  {
   "cell_type": "code",
   "execution_count": null,
   "id": "077cd6a3",
   "metadata": {},
   "outputs": [],
   "source": []
  },
  {
   "cell_type": "code",
   "execution_count": 16,
   "id": "36eff185",
   "metadata": {},
   "outputs": [],
   "source": [
    "from torchvision import transforms\n",
    "image_size=28\n",
    "data_transform=transforms.Compose([\n",
    "   # transforms.ToPILImage(),\n",
    "    transforms.Resize(image_size),\n",
    "    transforms.ToTensor()\n",
    "])"
   ]
  },
  {
   "cell_type": "code",
   "execution_count": 32,
   "id": "e415a9e1",
   "metadata": {},
   "outputs": [],
   "source": [
    "#读取方式一\n",
    "from torchvision import datasets\n",
    "train_data = datasets.FashionMNIST(root= './',train=True,download=True,transform=data_transform)#train_data是训练集\n",
    "test_data = datasets.FashionMNIST(root='./',train=False,download=True,transform=data_transform)#test_data是测试"
   ]
  },
  {
   "cell_type": "code",
   "execution_count": null,
   "id": "eff56437",
   "metadata": {},
   "outputs": [],
   "source": [
    "#读取方式二:读入csv格式的数据，自行构建Dataset类\n",
    "#csv数据下载链接：https://www.kaggle.com/zalando-research/fashionmnist\n",
    "class FMDataset(Dataset):\n",
    "    def __int__(self,df,transform=None):\n",
    "        self.df=df\n",
    "        self.transform=transform\n",
    "        self.images=df.iloc[:,1:].values.astype(np.uint8)\n",
    "        self.labels=df.iloc[:,0].values\n",
    "    def __len__(self):\n",
    "        return len(self.images)\n",
    "    def __getitem__(self,idx):\n",
    "        image=self.images[idx].reshape(28,28,1)\n",
    "        label=int(self.labels[idx])\n",
    "        if self.transform is not None:\n",
    "            image=self.transform(image)  \n",
    "        else:\n",
    "            image=torch.tensor(image/255.,dtype=torch.float)\n",
    "        label=torch.tensor(label,dtype=torch.long)\n",
    "        return image,label\n",
    "train_df =pd.read_csv('./FashionMNIST/fashion-mnist_train.csv')\n",
    "test_df =pd.read_csv('./FashionMNIST/fashion-mnist_test.csv')\n",
    "train_data=FMDataset(train_df,data_transform)\n",
    "test_data=FMDataset(test_df,data_transform)"
   ]
  },
  {
   "cell_type": "code",
   "execution_count": null,
   "id": "3599da63",
   "metadata": {},
   "outputs": [],
   "source": [
    "train.df"
   ]
  },
  {
   "cell_type": "code",
   "execution_count": null,
   "id": "c712f010",
   "metadata": {},
   "outputs": [],
   "source": [
    "#在构建训练和测试集完成后，需要定义DataLoader类，以使训练和测试时加载数据"
   ]
  }
 ],
 "metadata": {
  "kernelspec": {
   "display_name": "Python 3",
   "language": "python",
   "name": "python3"
  },
  "language_info": {
   "codemirror_mode": {
    "name": "ipython",
    "version": 3
   },
   "file_extension": ".py",
   "mimetype": "text/x-python",
   "name": "python",
   "nbconvert_exporter": "python",
   "pygments_lexer": "ipython3",
   "version": "3.6.13"
  }
 },
 "nbformat": 4,
 "nbformat_minor": 5
}
